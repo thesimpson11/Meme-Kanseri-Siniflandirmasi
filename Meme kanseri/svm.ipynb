{
 "cells": [
  {
   "cell_type": "code",
   "execution_count": 1,
   "metadata": {},
   "outputs": [],
   "source": [
    "import pandas as pd\n",
    "import numpy as np\n",
    "import seaborn as sns\n",
    "import matplotlib.pyplot as plt\n",
    "from matplotlib.colors import ListedColormap"
   ]
  },
  {
   "cell_type": "code",
   "execution_count": 2,
   "metadata": {},
   "outputs": [],
   "source": [
    "from sklearn.preprocessing import StandardScaler\n",
    "from sklearn.model_selection import train_test_split,GridSearchCV,RandomizedSearchCV\n",
    "from sklearn.metrics import accuracy_score, confusion_matrix, ConfusionMatrixDisplay\n",
    "from sklearn.neighbors import KNeighborsClassifier,NeighborhoodComponentsAnalysis, LocalOutlierFactor\n",
    "from sklearn.decomposition import PCA"
   ]
  },
  {
   "cell_type": "code",
   "execution_count": 3,
   "metadata": {},
   "outputs": [],
   "source": [
    "#warnings\n",
    "import warnings\n",
    "warnings.filterwarnings(\"ignore\")"
   ]
  },
  {
   "cell_type": "code",
   "execution_count": 4,
   "metadata": {},
   "outputs": [
    {
     "data": {
      "text/html": [
       "<div>\n",
       "<style scoped>\n",
       "    .dataframe tbody tr th:only-of-type {\n",
       "        vertical-align: middle;\n",
       "    }\n",
       "\n",
       "    .dataframe tbody tr th {\n",
       "        vertical-align: top;\n",
       "    }\n",
       "\n",
       "    .dataframe thead th {\n",
       "        text-align: right;\n",
       "    }\n",
       "</style>\n",
       "<table border=\"1\" class=\"dataframe\">\n",
       "  <thead>\n",
       "    <tr style=\"text-align: right;\">\n",
       "      <th></th>\n",
       "      <th>target</th>\n",
       "      <th>perimeter_mean</th>\n",
       "      <th>area_worst</th>\n",
       "      <th>concave points_mean</th>\n",
       "      <th>concavity_mean</th>\n",
       "      <th>radius_mean</th>\n",
       "      <th>concave points_worst</th>\n",
       "      <th>area_se</th>\n",
       "      <th>area_mean</th>\n",
       "      <th>concavity_worst</th>\n",
       "      <th>perimeter_worst</th>\n",
       "    </tr>\n",
       "  </thead>\n",
       "  <tbody>\n",
       "    <tr>\n",
       "      <th>0</th>\n",
       "      <td>1</td>\n",
       "      <td>122.80</td>\n",
       "      <td>2019.0</td>\n",
       "      <td>0.14710</td>\n",
       "      <td>0.3001</td>\n",
       "      <td>17.99</td>\n",
       "      <td>0.2654</td>\n",
       "      <td>153.40</td>\n",
       "      <td>1001.0</td>\n",
       "      <td>0.7119</td>\n",
       "      <td>184.60</td>\n",
       "    </tr>\n",
       "    <tr>\n",
       "      <th>1</th>\n",
       "      <td>1</td>\n",
       "      <td>132.90</td>\n",
       "      <td>1956.0</td>\n",
       "      <td>0.07017</td>\n",
       "      <td>0.0869</td>\n",
       "      <td>20.57</td>\n",
       "      <td>0.1860</td>\n",
       "      <td>74.08</td>\n",
       "      <td>1326.0</td>\n",
       "      <td>0.2416</td>\n",
       "      <td>158.80</td>\n",
       "    </tr>\n",
       "    <tr>\n",
       "      <th>2</th>\n",
       "      <td>1</td>\n",
       "      <td>130.00</td>\n",
       "      <td>1709.0</td>\n",
       "      <td>0.12790</td>\n",
       "      <td>0.1974</td>\n",
       "      <td>19.69</td>\n",
       "      <td>0.2430</td>\n",
       "      <td>94.03</td>\n",
       "      <td>1203.0</td>\n",
       "      <td>0.4504</td>\n",
       "      <td>152.50</td>\n",
       "    </tr>\n",
       "    <tr>\n",
       "      <th>3</th>\n",
       "      <td>1</td>\n",
       "      <td>77.58</td>\n",
       "      <td>567.7</td>\n",
       "      <td>0.10520</td>\n",
       "      <td>0.2414</td>\n",
       "      <td>11.42</td>\n",
       "      <td>0.2575</td>\n",
       "      <td>27.23</td>\n",
       "      <td>386.1</td>\n",
       "      <td>0.6869</td>\n",
       "      <td>98.87</td>\n",
       "    </tr>\n",
       "    <tr>\n",
       "      <th>4</th>\n",
       "      <td>1</td>\n",
       "      <td>135.10</td>\n",
       "      <td>1575.0</td>\n",
       "      <td>0.10430</td>\n",
       "      <td>0.1980</td>\n",
       "      <td>20.29</td>\n",
       "      <td>0.1625</td>\n",
       "      <td>94.44</td>\n",
       "      <td>1297.0</td>\n",
       "      <td>0.4000</td>\n",
       "      <td>152.20</td>\n",
       "    </tr>\n",
       "  </tbody>\n",
       "</table>\n",
       "</div>"
      ],
      "text/plain": [
       "   target  perimeter_mean  area_worst  concave points_mean  concavity_mean  \\\n",
       "0       1          122.80      2019.0              0.14710          0.3001   \n",
       "1       1          132.90      1956.0              0.07017          0.0869   \n",
       "2       1          130.00      1709.0              0.12790          0.1974   \n",
       "3       1           77.58       567.7              0.10520          0.2414   \n",
       "4       1          135.10      1575.0              0.10430          0.1980   \n",
       "\n",
       "   radius_mean  concave points_worst  area_se  area_mean  concavity_worst  \\\n",
       "0        17.99                0.2654   153.40     1001.0           0.7119   \n",
       "1        20.57                0.1860    74.08     1326.0           0.2416   \n",
       "2        19.69                0.2430    94.03     1203.0           0.4504   \n",
       "3        11.42                0.2575    27.23      386.1           0.6869   \n",
       "4        20.29                0.1625    94.44     1297.0           0.4000   \n",
       "\n",
       "   perimeter_worst  \n",
       "0           184.60  \n",
       "1           158.80  \n",
       "2           152.50  \n",
       "3            98.87  \n",
       "4           152.20  "
      ]
     },
     "execution_count": 4,
     "metadata": {},
     "output_type": "execute_result"
    }
   ],
   "source": [
    "data = pd.read_csv('Best features.csv')\n",
    "data.head()"
   ]
  },
  {
   "cell_type": "code",
   "execution_count": 34,
   "metadata": {},
   "outputs": [],
   "source": [
    "y = data.target\n",
    "x = data.drop([\"target\"],axis = 1)\n",
    "columns = X.columns.tolist()"
   ]
  },
  {
   "cell_type": "code",
   "execution_count": 23,
   "metadata": {},
   "outputs": [
    {
     "data": {
      "text/html": [
       "<div>\n",
       "<style scoped>\n",
       "    .dataframe tbody tr th:only-of-type {\n",
       "        vertical-align: middle;\n",
       "    }\n",
       "\n",
       "    .dataframe tbody tr th {\n",
       "        vertical-align: top;\n",
       "    }\n",
       "\n",
       "    .dataframe thead th {\n",
       "        text-align: right;\n",
       "    }\n",
       "</style>\n",
       "<table border=\"1\" class=\"dataframe\">\n",
       "  <thead>\n",
       "    <tr style=\"text-align: right;\">\n",
       "      <th></th>\n",
       "      <th>score</th>\n",
       "    </tr>\n",
       "  </thead>\n",
       "  <tbody>\n",
       "    <tr>\n",
       "      <th>0</th>\n",
       "      <td>-1.421523</td>\n",
       "    </tr>\n",
       "    <tr>\n",
       "      <th>1</th>\n",
       "      <td>-1.067086</td>\n",
       "    </tr>\n",
       "    <tr>\n",
       "      <th>2</th>\n",
       "      <td>-0.979029</td>\n",
       "    </tr>\n",
       "    <tr>\n",
       "      <th>3</th>\n",
       "      <td>-1.666518</td>\n",
       "    </tr>\n",
       "    <tr>\n",
       "      <th>4</th>\n",
       "      <td>-1.068818</td>\n",
       "    </tr>\n",
       "  </tbody>\n",
       "</table>\n",
       "</div>"
      ],
      "text/plain": [
       "      score\n",
       "0 -1.421523\n",
       "1 -1.067086\n",
       "2 -0.979029\n",
       "3 -1.666518\n",
       "4 -1.068818"
      ]
     },
     "execution_count": 23,
     "metadata": {},
     "output_type": "execute_result"
    }
   ],
   "source": [
    "clf = LocalOutlierFactor()\n",
    "y_pred = clf.fit_predict(x)\n",
    "X_score = clf.negative_outlier_factor_\n",
    "outlier_score = pd.DataFrame()\n",
    "outlier_score[\"score\"] = X_score\n",
    "outlier_score.head()"
   ]
  },
  {
   "cell_type": "code",
   "execution_count": 24,
   "metadata": {},
   "outputs": [],
   "source": [
    "threshold = -2\n",
    "filtre = outlier_score[\"score\"] < threshold\n",
    "outlier_index = outlier_score[filtre].index.tolist()"
   ]
  },
  {
   "cell_type": "code",
   "execution_count": 35,
   "metadata": {},
   "outputs": [],
   "source": [
    "X = x.drop(outlier_index)\n",
    "y = y.drop(outlier_index).values\n"
   ]
  },
  {
   "cell_type": "code",
   "execution_count": 26,
   "metadata": {},
   "outputs": [],
   "source": [
    "test_size =0.3\n",
    "X_train, X_test, y_train, y_test = train_test_split(X,y, test_size = test_size, random_state = 42)"
   ]
  },
  {
   "cell_type": "code",
   "execution_count": 27,
   "metadata": {},
   "outputs": [],
   "source": [
    "from sklearn.preprocessing import StandardScaler \n",
    "scaler = StandardScaler()\n",
    "X_train = scaler.fit_transform(X_train)\n",
    "X_test = scaler.transform(X_test)"
   ]
  },
  {
   "cell_type": "code",
   "execution_count": 38,
   "metadata": {},
   "outputs": [],
   "source": [
    "X_train_df = pd.DataFrame(X_train, columns = columns)\n",
    "X_train_df.head()\n",
    "X_train_df[\"target\"] = y_train"
   ]
  },
  {
   "cell_type": "code",
   "execution_count": 39,
   "metadata": {},
   "outputs": [],
   "source": [
    "from sklearn.svm import SVC\n",
    "svc_model = SVC()"
   ]
  },
  {
   "cell_type": "code",
   "execution_count": 40,
   "metadata": {},
   "outputs": [],
   "source": [
    "svc_model.fit(X_train, y_train)\n",
    "y_pred = svc_model.predict(X_test)\n",
    "cm = np.array(confusion_matrix(y_test, y_pred, labels=[1,0]))"
   ]
  },
  {
   "cell_type": "code",
   "execution_count": 41,
   "metadata": {},
   "outputs": [
    {
     "data": {
      "text/html": [
       "<div>\n",
       "<style scoped>\n",
       "    .dataframe tbody tr th:only-of-type {\n",
       "        vertical-align: middle;\n",
       "    }\n",
       "\n",
       "    .dataframe tbody tr th {\n",
       "        vertical-align: top;\n",
       "    }\n",
       "\n",
       "    .dataframe thead th {\n",
       "        text-align: right;\n",
       "    }\n",
       "</style>\n",
       "<table border=\"1\" class=\"dataframe\">\n",
       "  <thead>\n",
       "    <tr style=\"text-align: right;\">\n",
       "      <th></th>\n",
       "      <th>Kanserli Tahmini</th>\n",
       "      <th>Sağlıklı Tahmini</th>\n",
       "    </tr>\n",
       "  </thead>\n",
       "  <tbody>\n",
       "    <tr>\n",
       "      <th>Kanserli</th>\n",
       "      <td>65</td>\n",
       "      <td>5</td>\n",
       "    </tr>\n",
       "    <tr>\n",
       "      <th>Sağlıklı</th>\n",
       "      <td>3</td>\n",
       "      <td>96</td>\n",
       "    </tr>\n",
       "  </tbody>\n",
       "</table>\n",
       "</div>"
      ],
      "text/plain": [
       "           Kanserli Tahmini  Sağlıklı Tahmini\n",
       "Kanserli                 65                 5\n",
       "Sağlıklı                  3                96"
      ]
     },
     "execution_count": 41,
     "metadata": {},
     "output_type": "execute_result"
    }
   ],
   "source": [
    "from sklearn.metrics import classification_report, confusion_matrix\n",
    "cm = np.array(confusion_matrix(y_test, y_pred, labels=[1,0]))\n",
    "confusion = pd.DataFrame(cm, index=['Kanserli ' , 'Sağlıklı '],\n",
    "                         columns =['Kanserli Tahmini' , 'Sağlıklı Tahmini'])\n",
    "confusion.head()"
   ]
  },
  {
   "cell_type": "code",
   "execution_count": 42,
   "metadata": {},
   "outputs": [
    {
     "data": {
      "image/png": "[encoded data removed]",
      "text/plain": [
       "<Figure size 640x480 with 2 Axes>"
      ]
     },
     "metadata": {},
     "output_type": "display_data"
    }
   ],
   "source": [
    "sns.heatmap(confusion, annot=True,); "
   ]
  },
  {
   "cell_type": "code",
   "execution_count": 33,
   "metadata": {},
   "outputs": [
    {
     "name": "stdout",
     "output_type": "stream",
     "text": [
      "              precision    recall  f1-score   support\n",
      "\n",
      "           0       0.95      0.97      0.96        99\n",
      "           1       0.96      0.93      0.94        70\n",
      "\n",
      "    accuracy                           0.95       169\n",
      "   macro avg       0.95      0.95      0.95       169\n",
      "weighted avg       0.95      0.95      0.95       169\n",
      "\n"
     ]
    }
   ],
   "source": [
    "print(classification_report(y_test , y_pred))        "
   ]
  }
 ],
 "metadata": {
  "kernelspec": {
   "display_name": "deeplearning",
   "language": "python",
   "name": "python3"
  },
  "language_info": {
   "codemirror_mode": {
    "name": "ipython",
    "version": 3
   },
   "file_extension": ".py",
   "mimetype": "text/x-python",
   "name": "python",
   "nbconvert_exporter": "python",
   "pygments_lexer": "ipython3",
   "version": "3.9.16"
  },
  "orig_nbformat": 4
 },
 "nbformat": 4,
 "nbformat_minor": 2
}
